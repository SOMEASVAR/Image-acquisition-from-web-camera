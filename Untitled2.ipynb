{
 "cells": [
  {
   "cell_type": "code",
   "execution_count": 1,
   "id": "49587d5f",
   "metadata": {},
   "outputs": [],
   "source": [
    "import cv2\n",
    "videoCaptureObject=cv2.VideoCapture(0)\n",
    "while True:\n",
    "    ret,frame=videoCaptureObject.read()\n",
    "    cv2.imshow('hai',frame)\n",
    "    cv2.imwrite(\"hello.jpg\",frame)\n",
    "    if cv2.waitKey(1)==ord('s'):\n",
    "        break\n",
    "videoCaptureObject.release()\n",
    "cv2.destroyAllWindows()"
   ]
  },
  {
   "cell_type": "code",
   "execution_count": 2,
   "id": "05506cde",
   "metadata": {},
   "outputs": [],
   "source": [
    "import cv2\n",
    "Capture=cv2.VideoCapture(0)\n",
    "while(True):\n",
    "    R,Frame=Capture.read()\n",
    "    cv2.imshow(\"Frame\",Frame)\n",
    "    if cv2.waitKey(1)==ord('s'):\n",
    "        break\n",
    "Capture.release()\n",
    "cv2.destroyAllWindows()"
   ]
  },
  {
   "cell_type": "code",
   "execution_count": 3,
   "id": "dc761660",
   "metadata": {},
   "outputs": [],
   "source": [
    "import numpy as np\n",
    "import cv2\n",
    "Capture=cv2.VideoCapture(0)\n",
    "while(True):\n",
    "    R,Frame=Capture.read()\n",
    "    Width=int(Capture.get(3))\n",
    "    Height=int(Capture.get(4))\n",
    "    image=np.zeros(Frame.shape,np.uint8)\n",
    "    smaller_frame=cv2.resize(Frame, (0,0), fx=0.5, fy=0.5)\n",
    "    image[:Height//2,:Width//2]=smaller_frame\n",
    "    image[Height//2:,:Width//2]=smaller_frame\n",
    "    image[:Height//2,Width//2:]=smaller_frame\n",
    "    image[Height//2:,Width//2:]=smaller_frame\n",
    "    cv2.imshow(\"Frame\",image)\n",
    "    if cv2.waitKey(1)==ord('s'):\n",
    "        break\n",
    "Capture.release()\n",
    "cv2.destroyAllWindows()"
   ]
  },
  {
   "cell_type": "code",
   "execution_count": 4,
   "id": "65e93d12",
   "metadata": {},
   "outputs": [],
   "source": [
    "import numpy as np\n",
    "import cv2\n",
    "Capture=cv2.VideoCapture(0)\n",
    "while(True):\n",
    "    R,Frame=Capture.read()\n",
    "    Width=int(Capture.get(3))\n",
    "    Height=int(Capture.get(4))\n",
    "    image=np.zeros(Frame.shape,np.uint8)\n",
    "    smaller_frame=cv2.resize(Frame, (0,0), fx=0.5, fy=0.5)\n",
    "    image[:Height//2,:Width//2]=smaller_frame\n",
    "    image[Height//2:,:Width//2]=cv2.rotate(smaller_frame,cv2.ROTATE_180)\n",
    "    image[:Height//2,Width//2:]=smaller_frame\n",
    "    image[Height//2:,Width//2:]=cv2.rotate(smaller_frame,cv2.ROTATE_180)\n",
    "    cv2.imshow(\"Frame\",image)\n",
    "    if cv2.waitKey(1)==ord('s'):\n",
    "        break\n",
    "Capture.release()\n",
    "cv2.destroyAllWindows()"
   ]
  },
  {
   "cell_type": "code",
   "execution_count": null,
   "id": "5b88ff29",
   "metadata": {},
   "outputs": [],
   "source": []
  }
 ],
 "metadata": {
  "kernelspec": {
   "display_name": "Python 3 (ipykernel)",
   "language": "python",
   "name": "python3"
  },
  "language_info": {
   "codemirror_mode": {
    "name": "ipython",
    "version": 3
   },
   "file_extension": ".py",
   "mimetype": "text/x-python",
   "name": "python",
   "nbconvert_exporter": "python",
   "pygments_lexer": "ipython3",
   "version": "3.9.7"
  }
 },
 "nbformat": 4,
 "nbformat_minor": 5
}
